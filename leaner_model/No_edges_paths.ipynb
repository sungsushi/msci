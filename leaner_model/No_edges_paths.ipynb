{
  "nbformat": 4,
  "nbformat_minor": 0,
  "metadata": {
    "colab": {
      "name": "No_edges_paths.ipynb",
      "provenance": [],
      "authorship_tag": "ABX9TyPC8NKK04/Sps6nDiZvcF2b",
      "include_colab_link": true
    },
    "kernelspec": {
      "name": "python3",
      "display_name": "Python 3"
    },
    "language_info": {
      "name": "python"
    }
  },
  "cells": [
    {
      "cell_type": "markdown",
      "metadata": {
        "id": "view-in-github",
        "colab_type": "text"
      },
      "source": [
        "<a href=\"https://colab.research.google.com/github/sungsushi/msci/blob/main/leaner_model/No_edges_paths.ipynb\" target=\"_parent\"><img src=\"https://colab.research.google.com/assets/colab-badge.svg\" alt=\"Open In Colab\"/></a>"
      ]
    },
    {
      "cell_type": "markdown",
      "metadata": {
        "id": "SCx_HCfqlVg8"
      },
      "source": [
        "# paths from not having to make edges!"
      ]
    },
    {
      "cell_type": "code",
      "metadata": {
        "id": "oNGw2P8klcY0"
      },
      "source": [
        "import numpy as np\n",
        "import networkx as nx\n",
        "import matplotlib.pyplot as plt\n",
        "import copy \n",
        "import os\n",
        "import time \n",
        "from google.colab import files\n",
        "import copy \n",
        "\n",
        "def get_intercept(point): # generates 1e4 points and adj list in 3 sec\n",
        "    return point[0] + point[1]\n",
        "\n",
        "def gen_graph(N, seed=False): \n",
        "    # using box space condition\n",
        "    if seed:\n",
        "        np.random.seed(seed)\n",
        "    #generate random coords in (0,1):\n",
        "    x = np.random.random(N-2)\n",
        "    y = np.random.random(N-2)\n",
        "\n",
        "    \n",
        "    \n",
        "    unrotpoints = np.array([x,y])\n",
        "    unrotpoints = unrotpoints[:,get_intercept(unrotpoints).argsort()].T # sort by ascending in causal order\n",
        "\n",
        "    \n",
        "    unrotpoints = np.insert(unrotpoints, [0], 0, axis=0) # add the (0,0) node to keep everything causal\n",
        "    unrotpoints = np.insert(unrotpoints, [len(unrotpoints)], [1, 1], axis=0) # add the sink node\n",
        "    \n",
        "    points = np.array([unrotpoints[:,0]*np.cos(np.pi/4) - unrotpoints[:,1]*np.sin(np.pi/4), \n",
        "                     unrotpoints[:,1]*np.sin(np.pi/4) + unrotpoints[:,0]*np.cos(np.pi/4)]).T\n",
        "    return points # only outputs coordinates sorted in time coordinate\n"
      ],
      "execution_count": null,
      "outputs": []
    },
    {
      "cell_type": "code",
      "metadata": {
        "id": "_3AsCCu3qruN"
      },
      "source": [
        "\n",
        "def get_intercept(point): # generates 1e4 points and adj list in 3 sec\n",
        "    return point[0] + point[1]\n",
        "\n",
        "def gen_graph_adj_2(N, seed=False): \n",
        "    # using box space condition\n",
        "    if seed:\n",
        "        np.random.seed(seed)\n",
        "    #generate random coords in (0,1):\n",
        "    x = np.random.random(N-2)\n",
        "    y = np.random.random(N-2)\n",
        "\n",
        "    \n",
        "    \n",
        "    unrotpoints = np.array([x,y])\n",
        "    unrotpoints = unrotpoints[:,get_intercept(unrotpoints).argsort()].T # sort by ascending in causal order\n",
        "\n",
        "    \n",
        "    unrotpoints = np.insert(unrotpoints, [0], 0, axis=0) # add the (0,0) node to keep everything causal\n",
        "    unrotpoints = np.insert(unrotpoints, [len(unrotpoints)], [1, 1], axis=0) # add the sink node\n",
        "    \n",
        "    adj = []\n",
        "    for i in range(N): # need all adjacencies for algorithm but do we really?\n",
        "        x_cond = (unrotpoints[i][0] - unrotpoints[i+1:][:,0]) < 0\n",
        "        y_cond = (unrotpoints[i][1] - unrotpoints[i+1:][:,1]) < 0\n",
        "        indices = np.where((x_cond * y_cond)==True)[0]\n",
        "        adj.append(list(indices+i+1))\n",
        "\n",
        "    points = np.array([unrotpoints[:,0]*np.cos(np.pi/4) - unrotpoints[:,1]*np.sin(np.pi/4), \n",
        "                     unrotpoints[:,1]*np.sin(np.pi/4) + unrotpoints[:,0]*np.cos(np.pi/4)]).T\n",
        "    return points, adj\n",
        "\n",
        "def random_path(adj_list, seed=None):\n",
        "    if seed:\n",
        "        np.random.seed(seed)\n",
        "    N = len(adj_list)\n",
        "    i = 0\n",
        "    path = [0]\n",
        "    while i < N-1:\n",
        "        #print(i)\n",
        "        j = np.random.choice(adj_list[i])\n",
        "        path.append(j)\n",
        "        i = j\n",
        "    return path\n",
        "\n",
        "\n",
        "\n",
        "def greedy_path(adj):\n",
        "    # adj is the adjacency list of the network. \n",
        "    # points is the coordinates of those nodes\n",
        "    path = [0] #start with node zero\n",
        "    current_node = 0\n",
        "    while current_node != len(adj)-1:\n",
        "        next_node = adj[current_node][0] # because we have already time sorted it, \n",
        "                                    #0th element should be the closest in time. \n",
        "        path.append(next_node)\n",
        "        current_node = next_node\n",
        "    return path\n",
        "\n",
        "\n",
        "def longest_path(adj_list): # origin node is taken to be index (and label) 0.\n",
        "    N = len(adj_list) # N = no. of nodes in the graph\n",
        "    \n",
        "    paths = [[] for i in range(N)]\n",
        "    paths[0].append(0)  # the path lengths of the shortest from the origin node.\n",
        "    \n",
        "    for i in range(N):\n",
        "        _list = adj_list[i] \n",
        "        for j in _list: # consider daughter vertices from node i. \n",
        "            plength = len(paths[i]) +1\n",
        "            if plength > len(paths[j]): # if new path is longer than existing path\n",
        "                paths[j] = paths[i] + [j] # replace old path with the new path\n",
        "    return paths # prints an array of longest paths  whose index corresponds to node label.\n",
        "\n"
      ],
      "execution_count": null,
      "outputs": []
    },
    {
      "cell_type": "code",
      "metadata": {
        "id": "-5FOn19tlSc6"
      },
      "source": [
        "\n",
        "def ptgpath_points(points):\n",
        "    # assume points are sorted by its time coordinate\n",
        "    current_node = 0\n",
        "    path = [0]\n",
        "    N = len(points)\n",
        "    while current_node < N - 1:\n",
        "        #print(current_node)\n",
        "        c_node_coord = points[current_node]\n",
        "        domain = points[current_node + 1:] # all nodes after current_node in time coordinate\n",
        "        propertimes = (c_node_coord[0] - domain[:,0])**2 - (c_node_coord[1] - domain[:,1])**2\n",
        "        invpt = 1/propertimes # inverse pt: numbers near 0 become large in magnitude\n",
        "        index = np.argmin(invpt) # index of the smallest negative inverse pt (i.e. least negative pt)\n",
        "        current_node += 1+ index # new current node\n",
        "        path.append(current_node) # add the new current node to the path\n",
        "    pathpoints = points[path]\n",
        "    return pathpoints # array of coordinates in the path\n",
        "\n",
        "def random_path_points(points, seed=None):\n",
        "    # points is the coordinates of nodes sorted in time coord\n",
        "    if seed:\n",
        "        np.random.seed(seed)\n",
        "    N = len(points)\n",
        "    current_node = 0\n",
        "    path = [0]\n",
        "    while current_node < N-1:\n",
        "        #print(current_node)\n",
        "        c_node_coord = points[current_node]\n",
        "        domain = points[current_node + 1:] # all nodes after current_node in time coordinate\n",
        "        propertimes = (c_node_coord[0] - domain[:,0])**2 - (c_node_coord[1] - domain[:,1])**2\n",
        "        causal = np.where(propertimes < 0)[0] # which indicies of propertimes are causal?\n",
        "        index = np.random.choice(causal) # choose one of the indices at random\n",
        "        current_node += 1 + index # new current node\n",
        "        path.append(current_node) # add the new current node to the path\n",
        "    \n",
        "    pathpoints = points[path]\n",
        "    return path\n",
        "\n",
        "def greedy_path_points(points):\n",
        "    # points is the coordinates of nodes sorted in time coord\n",
        "    path = [0] #start with node zero\n",
        "    current_node = 0\n",
        "    N = len(points)\n",
        "    while current_node < N-1:\n",
        "        c_node_coord = points[current_node]\n",
        "        domain = points[current_node + 1:] # all nodes after current_node in time coordinate\n",
        "        propertimes = (c_node_coord[0] - domain[:,0])**2 - (c_node_coord[1] - domain[:,1])**2\n",
        "        causal = np.where(propertimes < 0)[0] # which indicies of propertimes are causal?\n",
        "        index = min(causal) # choose one of the indices at random\n",
        "        current_node += 1 + index # new current node\n",
        "        path.append(current_node) # add the new current node to the path\n",
        "    pathpoints = points[path]\n",
        "    return path\n",
        "\n",
        "\n",
        "\n",
        "def longest_path_points(points): # origin node is taken to be index (and label) 0.\n",
        "    N = len(points) # N = no. of nodes in the graph\n",
        "    \n",
        "    paths = [[] for i in range(N)]\n",
        "    paths[0].append(0)  # the path lengths of the shortest from the origin node.\n",
        "    \n",
        "    for i in range(N):\n",
        "        c_node_coord = points[i]\n",
        "        domain = points[i + 1:] # all nodes after current_node in time coordinate\n",
        "        propertimes = (c_node_coord[0] - domain[:,0])**2 - (c_node_coord[1] - domain[:,1])**2\n",
        "        causal = np.where(propertimes < 0)[0] # which indicies of propertimes are causal?\n",
        "        _list = i + 1 + causal \n",
        "        for j in _list: # consider daughter vertices from node i. \n",
        "            plength = len(paths[i]) +1\n",
        "            if plength > len(paths[j]): # if new path is longer than existing path\n",
        "                paths[j] = paths[i] + [j] # replace old path with the new path\n",
        "    return paths # prints an array of longest paths  whose index corresponds to node label.\n",
        "\n"
      ],
      "execution_count": null,
      "outputs": []
    },
    {
      "cell_type": "markdown",
      "metadata": {
        "id": "qxiDDDz_ryWt"
      },
      "source": [
        "## random "
      ]
    },
    {
      "cell_type": "code",
      "metadata": {
        "colab": {
          "base_uri": "https://localhost:8080/"
        },
        "id": "sZ3r2sW2qOPo",
        "outputId": "fdb2deb9-bea2-4cff-960d-2e0ec6535518"
      },
      "source": [
        "N = int(1e4) \n",
        "points = gen_graph(N, seed=1)\n",
        "\n",
        "#print(ptgpath_points(points))\n",
        "print(random_path_points(points, seed = 1))\n",
        "\n",
        "points, adj = gen_graph_adj_2(N, seed=1)\n",
        "print(random_path(adj, seed=1))"
      ],
      "execution_count": null,
      "outputs": [
        {
          "output_type": "stream",
          "text": [
            "[0, 236, 6050, 9456, 9584, 9989, 9997, 9999]\n",
            "[0, 236, 6050, 9456, 9584, 9989, 9997, 9999]\n"
          ],
          "name": "stdout"
        }
      ]
    },
    {
      "cell_type": "markdown",
      "metadata": {
        "id": "7fWNQjJfrwo7"
      },
      "source": [
        "## time-greedy"
      ]
    },
    {
      "cell_type": "code",
      "metadata": {
        "colab": {
          "base_uri": "https://localhost:8080/"
        },
        "id": "xKp9xbjZqTCP",
        "outputId": "359c6ff0-44f5-44fe-826d-59fbf75028a4"
      },
      "source": [
        "N = int(2e4) \n",
        "points = gen_graph(N, seed=1)\n",
        "\n",
        "#print(ptgpath_points(points))\n",
        "print(greedy_path_points(points))"
      ],
      "execution_count": null,
      "outputs": [
        {
          "output_type": "stream",
          "text": [
            "[0, 1, 3, 4, 7, 9, 23, 36, 53, 54, 62, 82, 106, 126, 141, 165, 180, 218, 228, 249, 253, 261, 285, 320, 351, 393, 424, 455, 494, 506, 544, 563, 592, 613, 690, 719, 825, 863, 876, 937, 955, 967, 997, 1052, 1075, 1091, 1140, 1195, 1236, 1358, 1477, 1505, 1560, 1675, 1810, 1905, 1912, 1958, 2000, 2056, 2063, 2174, 2303, 2377, 2400, 2480, 2607, 2696, 2735, 2810, 2889, 2967, 3094, 3203, 3294, 3362, 3511, 3712, 3724, 3809, 4049, 4091, 4170, 4257, 4379, 4497, 4564, 4729, 4872, 5031, 5158, 5360, 5470, 5503, 5649, 5787, 5990, 6096, 6260, 6352, 6430, 6484, 6604, 6712, 6770, 6886, 6984, 7170, 7353, 7405, 7512, 7558, 7726, 7787, 7904, 8222, 8464, 8848, 8947, 9016, 9289, 9447, 9645, 9845, 10120, 10223, 10389, 10498, 10719, 10902, 11090, 11204, 11280, 11335, 11394, 11410, 11623, 11773, 11813, 12100, 12220, 12414, 12488, 12592, 12856, 12965, 13220, 13304, 13492, 13645, 13785, 13831, 13911, 13975, 14180, 14468, 14637, 14670, 14743, 14838, 14946, 15049, 15177, 15325, 15484, 15540, 15698, 15792, 15877, 16008, 16075, 16107, 16319, 16465, 16584, 16640, 16713, 16805, 16932, 17018, 17072, 17144, 17210, 17298, 17403, 17450, 17536, 17563, 17602, 17642, 17680, 17730, 17824, 17906, 17973, 18064, 18094, 18180, 18241, 18313, 18345, 18433, 18490, 18575, 18622, 18778, 18806, 18832, 18865, 18886, 18916, 18946, 18974, 19063, 19130, 19172, 19198, 19213, 19295, 19319, 19357, 19371, 19448, 19517, 19528, 19542, 19611, 19616, 19653, 19687, 19724, 19999]\n"
          ],
          "name": "stdout"
        }
      ]
    },
    {
      "cell_type": "code",
      "metadata": {
        "colab": {
          "base_uri": "https://localhost:8080/"
        },
        "id": "zEuEPqw9rNBx",
        "outputId": "086d8f39-902f-45e1-e231-ce8a445a7126"
      },
      "source": [
        "N = int(2e4) \n",
        "\n",
        "points, adj = gen_graph_adj_2(N, seed=1)\n",
        "print(greedy_path(adj))"
      ],
      "execution_count": null,
      "outputs": [
        {
          "output_type": "stream",
          "text": [
            "[0, 1, 3, 4, 7, 9, 23, 36, 53, 54, 62, 82, 106, 126, 141, 165, 180, 218, 228, 249, 253, 261, 285, 320, 351, 393, 424, 455, 494, 506, 544, 563, 592, 613, 690, 719, 825, 863, 876, 937, 955, 967, 997, 1052, 1075, 1091, 1140, 1195, 1236, 1358, 1477, 1505, 1560, 1675, 1810, 1905, 1912, 1958, 2000, 2056, 2063, 2174, 2303, 2377, 2400, 2480, 2607, 2696, 2735, 2810, 2889, 2967, 3094, 3203, 3294, 3362, 3511, 3712, 3724, 3809, 4049, 4091, 4170, 4257, 4379, 4497, 4564, 4729, 4872, 5031, 5158, 5360, 5470, 5503, 5649, 5787, 5990, 6096, 6260, 6352, 6430, 6484, 6604, 6712, 6770, 6886, 6984, 7170, 7353, 7405, 7512, 7558, 7726, 7787, 7904, 8222, 8464, 8848, 8947, 9016, 9289, 9447, 9645, 9845, 10120, 10223, 10389, 10498, 10719, 10902, 11090, 11204, 11280, 11335, 11394, 11410, 11623, 11773, 11813, 12100, 12220, 12414, 12488, 12592, 12856, 12965, 13220, 13304, 13492, 13645, 13785, 13831, 13911, 13975, 14180, 14468, 14637, 14670, 14743, 14838, 14946, 15049, 15177, 15325, 15484, 15540, 15698, 15792, 15877, 16008, 16075, 16107, 16319, 16465, 16584, 16640, 16713, 16805, 16932, 17018, 17072, 17144, 17210, 17298, 17403, 17450, 17536, 17563, 17602, 17642, 17680, 17730, 17824, 17906, 17973, 18064, 18094, 18180, 18241, 18313, 18345, 18433, 18490, 18575, 18622, 18778, 18806, 18832, 18865, 18886, 18916, 18946, 18974, 19063, 19130, 19172, 19198, 19213, 19295, 19319, 19357, 19371, 19448, 19517, 19528, 19542, 19611, 19616, 19653, 19687, 19724, 19999]\n"
          ],
          "name": "stdout"
        }
      ]
    },
    {
      "cell_type": "markdown",
      "metadata": {
        "id": "SMC18iDartcq"
      },
      "source": [
        "## longest"
      ]
    },
    {
      "cell_type": "code",
      "metadata": {
        "colab": {
          "base_uri": "https://localhost:8080/"
        },
        "id": "ebZk2wr7rmSl",
        "outputId": "15ba86d8-9919-4082-906b-84c374f09365"
      },
      "source": [
        "N = int(2e4) \n",
        "points = gen_graph(N, seed=1)\n",
        "\n",
        "#print(ptgpath_points(points))\n",
        "print(len(longest_path_points(points)[-1]))\n"
      ],
      "execution_count": null,
      "outputs": [
        {
          "output_type": "stream",
          "text": [
            "333\n"
          ],
          "name": "stdout"
        }
      ]
    },
    {
      "cell_type": "code",
      "metadata": {
        "id": "uvleH7O6sYG2"
      },
      "source": [
        "N = int(2e4) \n",
        "\n",
        "points, adj = gen_graph_adj_2(N, seed=1)\n",
        "print(len(longest_path(adj)[-1]))"
      ],
      "execution_count": null,
      "outputs": []
    },
    {
      "cell_type": "code",
      "metadata": {
        "id": "Lr_4CAQstAm6"
      },
      "source": [
        ""
      ],
      "execution_count": null,
      "outputs": []
    }
  ]
}