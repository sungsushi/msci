{
  "nbformat": 4,
  "nbformat_minor": 0,
  "metadata": {
    "colab": {
      "name": "leaner_model.ipynb",
      "provenance": [],
      "collapsed_sections": [],
      "include_colab_link": true
    },
    "kernelspec": {
      "display_name": "Python 3",
      "name": "python3"
    }
  },
  "cells": [
    {
      "cell_type": "markdown",
      "metadata": {
        "id": "view-in-github",
        "colab_type": "text"
      },
      "source": [
        "<a href=\"https://colab.research.google.com/github/sungsushi/msci/blob/main/leaner_model/leaner_model.ipynb\" target=\"_parent\"><img src=\"https://colab.research.google.com/assets/colab-badge.svg\" alt=\"Open In Colab\"/></a>"
      ]
    },
    {
      "cell_type": "markdown",
      "metadata": {
        "id": "ZVdeTlZdZGqX"
      },
      "source": [
        "# Leaner model:\n",
        "## No need for edge object creation, just make the paths from the array of points. "
      ]
    },
    {
      "cell_type": "code",
      "metadata": {
        "id": "Uumm-Ct5LZ6i"
      },
      "source": [
        "import numpy as np\n",
        "import networkx as nx\n",
        "import matplotlib.pyplot as plt\n",
        "import copy \n",
        "import os\n",
        "import time \n",
        "from google.colab import files\n",
        "import copy \n",
        "\n",
        "def get_intercept(point): # generates 1e4 points and adj list in 3 sec\n",
        "    return point[0] + point[1]\n",
        "\n",
        "def gen_graph(N, seed=False): \n",
        "    # using box space condition\n",
        "    if seed:\n",
        "        np.random.seed(seed)\n",
        "    #generate random coords in (0,1):\n",
        "    x = np.random.random(N-2)\n",
        "    y = np.random.random(N-2)\n",
        "\n",
        "    \n",
        "    \n",
        "    unrotpoints = np.array([x,y])\n",
        "    unrotpoints = unrotpoints[:,get_intercept(unrotpoints).argsort()].T # sort by ascending in causal order\n",
        "\n",
        "    \n",
        "    unrotpoints = np.insert(unrotpoints, [0], 0, axis=0) # add the (0,0) node to keep everything causal\n",
        "    unrotpoints = np.insert(unrotpoints, [len(unrotpoints)], [1, 1], axis=0) # add the sink node\n",
        "    \n",
        "    points = np.array([unrotpoints[:,0]*np.cos(np.pi/4) - unrotpoints[:,1]*np.sin(np.pi/4), \n",
        "                     unrotpoints[:,1]*np.sin(np.pi/4) + unrotpoints[:,0]*np.cos(np.pi/4)]).T\n",
        "    return points # only outputs coordinates sorted in time coordinate\n",
        "\n"
      ],
      "execution_count": 1,
      "outputs": []
    },
    {
      "cell_type": "code",
      "metadata": {
        "id": "msfdUy3VMGGE"
      },
      "source": [
        "def gen_graph_adj_2(N, seed=False): \n",
        "    # using box space condition\n",
        "    if seed:\n",
        "        np.random.seed(seed)\n",
        "    #generate random coords in (0,1):\n",
        "    x = np.random.random(N-2)\n",
        "    y = np.random.random(N-2)\n",
        "\n",
        "    \n",
        "    \n",
        "    unrotpoints = np.array([x,y])\n",
        "    unrotpoints = unrotpoints[:,get_intercept(unrotpoints).argsort()].T # sort by ascending in causal order\n",
        "\n",
        "    \n",
        "    unrotpoints = np.insert(unrotpoints, [0], 0, axis=0) # add the (0,0) node to keep everything causal\n",
        "    unrotpoints = np.insert(unrotpoints, [len(unrotpoints)], [1, 1], axis=0) # add the sink node\n",
        "    \n",
        "    adj = []\n",
        "    for i in range(N): # need all adjacencies for algorithm but do we really?\n",
        "        x_cond = (unrotpoints[i][0] - unrotpoints[i+1:][:,0]) < 0\n",
        "        y_cond = (unrotpoints[i][1] - unrotpoints[i+1:][:,1]) < 0\n",
        "        indices = np.where((x_cond * y_cond)==True)[0]\n",
        "        adj.append(list(indices+i+1))\n",
        "\n",
        "    points = np.array([unrotpoints[:,0]*np.cos(np.pi/4) - unrotpoints[:,1]*np.sin(np.pi/4), \n",
        "                     unrotpoints[:,1]*np.sin(np.pi/4) + unrotpoints[:,0]*np.cos(np.pi/4)]).T\n",
        "    return points, adj\n",
        "\n",
        "def edge_from_adj(adj):\n",
        "    edges = []\n",
        "    for i in range(len(adj)):\n",
        "        for j in adj[i]:\n",
        "            edges.append((i, j))\n",
        "    return edges\n"
      ],
      "execution_count": 2,
      "outputs": []
    },
    {
      "cell_type": "code",
      "metadata": {
        "colab": {
          "base_uri": "https://localhost:8080/"
        },
        "id": "u41w8CNqLL36",
        "outputId": "586dcb66-f25c-494b-d94a-0feaafc56a25"
      },
      "source": [
        "# nb: no need for edge/adj list creation!\n",
        "\n",
        "def ptgpath(points):\n",
        "    # greedy in proper time. \n",
        "    # assume points are sorted by time coordinates\n",
        "    current_node = 0\n",
        "    path = [0]\n",
        "    N = len(points)\n",
        "    while current_node < N - 1:\n",
        "        #print(current_node)\n",
        "        c_node_coord = points[current_node]\n",
        "        domain = points[current_node + 1:] # all nodes after current_node in time coordinate\n",
        "        propertimes = (c_node_coord[0] - domain[:,0])**2 - (c_node_coord[1] - domain[:,1])**2\n",
        "        invpt = 1/propertimes # inverse pt: numbers near 0 become large in magnitude\n",
        "        index = np.argmin(invpt) # index of the smallest negative inverse pt (i.e. least negative pt)\n",
        "        current_node += 1 + index # new current node index\n",
        "        path.append(current_node) # add the new current node to the path\n",
        "    return path # list of node labels \n",
        "\n",
        "def ptgpath_points(points):\n",
        "    # greedy in proper time. \n",
        "    # assume points are sorted by its time coordinate\n",
        "    current_node = 0\n",
        "    path = [0]\n",
        "    N = len(points)\n",
        "    while current_node < N - 1:\n",
        "        #print(current_node)\n",
        "        c_node_coord = points[current_node]\n",
        "        domain = points[current_node + 1:] # all nodes after current_node in time coordinate\n",
        "        propertimes = (c_node_coord[0] - domain[:,0])**2 - (c_node_coord[1] - domain[:,1])**2\n",
        "        invpt = 1/propertimes # inverse pt: numbers near 0 become large in magnitude\n",
        "        index = np.argmin(invpt) # index of the smallest negative inverse pt (i.e. least negative pt)\n",
        "        current_node += 1+ index # new current node\n",
        "        path.append(current_node) # add the new current node to the path\n",
        "    pathpoints = points[path]\n",
        "    return pathpoints # array of coordinates in the path\n",
        "\n",
        "def random_path_2Dpoints(points, seed=None):\n",
        "    # returns the random path\n",
        "    # points is the coordinates of nodes sorted in time coord\n",
        "    if seed:\n",
        "        np.random.seed(seed)\n",
        "    N = len(points)\n",
        "    current_node = 0\n",
        "    path = [0]\n",
        "    while current_node < N-1:\n",
        "        c_node_coord = points[current_node]\n",
        "        domain = points[current_node + 1:] # all nodes after current_node in time coordinate\n",
        "        propertimes = (c_node_coord[0] - domain[:,0])**2 - (c_node_coord[1] - domain[:,1])**2\n",
        "        causal = np.where(propertimes < 0)[0] # which indicies of propertimes are causal?\n",
        "        index = np.random.choice(causal) # choose one of the indices at random\n",
        "        current_node += 1+ index # new current node\n",
        "        path.append(current_node) # add the new current node to the path\n",
        "    \n",
        "    pathpoints = points[path]\n",
        "    return pathpoints\n",
        "\n",
        "\n",
        "N = int(1e5) \n",
        "points = gen_graph(N, seed=1)\n",
        "\n",
        "print(ptgpath(points))\n"
      ],
      "execution_count": 3,
      "outputs": [
        {
          "output_type": "stream",
          "text": [
            "[0, 775, 40955, 41767, 42091, 50551, 50686, 56997, 87200, 95647, 95849, 95901, 96359, 97326, 97626, 97714, 97790, 98172, 98307, 98343, 98612, 98893, 99640, 99655, 99685, 99720, 99830, 99868, 99925, 99932, 99946, 99950, 99973, 99975, 99984, 99991, 99994, 99999]\n"
          ],
          "name": "stdout"
        }
      ]
    },
    {
      "cell_type": "code",
      "metadata": {
        "colab": {
          "base_uri": "https://localhost:8080/",
          "height": 368
        },
        "id": "bLJUHSu6LR9H",
        "outputId": "a657f5bf-8724-4786-e859-3e894504b4ab"
      },
      "source": [
        "N = int(50) \n",
        "points, adj = gen_graph_adj_2(N, seed=1)\n",
        "edgelist = edge_from_adj(adj)\n",
        "pos = { i : points[i] for i in range(N) } #dictionary of node labels\n",
        "\n",
        "\n",
        "G = nx.DiGraph()\n",
        "G.add_edges_from(edgelist)\n",
        "\n",
        "#G = nx.transitive_reduction(G) #### transitive reduction!!!\n",
        "\n",
        "fig, ax = plt.subplots(figsize=(5,5))\n",
        "\n",
        "# the longest path\n",
        "path = nx.dag_longest_path(G)\n",
        "# the longest path edge tuple list:\n",
        "path_edges = set(zip(path,path[1:]))\n",
        "\n",
        "#greedy path:\n",
        "greedy_path = ptgpath(points)\n",
        "\n",
        "#greedy path edge tuple list:\n",
        "greedy_path_edges = set(zip(greedy_path,greedy_path[1:]))\n",
        "\n",
        "#draw basic graph nodes (no edges):\n",
        "nx.draw_networkx_nodes(G,pos,node_color='grey', node_size = 20, alpha=0.4)\n",
        "\n",
        "#draw the nodes in the greedy path\n",
        "nx.draw_networkx_nodes(G,pos,nodelist=greedy_path,node_color='navy', node_size = 30)\n",
        "\n",
        "#draw the edges in the greedy path\n",
        "nx.draw_networkx_edges(G,pos,edgelist=greedy_path_edges,edge_color='navy',width=4, arrowsize=1, alpha = 0.6)\n",
        "\n",
        "limits=plt.axis('on') # turns on axis\n",
        "ax.tick_params(left=True, bottom=True, labelleft=True, labelbottom=True)\n",
        "plt.xlabel(\"x\")\n",
        "plt.ylabel(\"t\")\n",
        "\n",
        "plt.xlim(-0.75, 0.75)\n",
        "plt.ylim(-0.1, 1.5)\n",
        "#plt.savefig('dag_longestpath_5000.png')\n",
        "#files.download('dag_longestpath_5000.png') \n",
        "print('length of the longest path is:', len(path)-1)\n",
        "print('length of the greedy path is:', len(greedy_path)-1)\n",
        "plt.show()"
      ],
      "execution_count": 5,
      "outputs": [
        {
          "output_type": "stream",
          "text": [
            "length of the longest path is: 14\n",
            "length of the greedy path is: 13\n"
          ],
          "name": "stdout"
        },
        {
          "output_type": "display_data",
          "data": {
            "image/png": "[encoded data removed]",
            "text/plain": [
              "<Figure size 360x360 with 1 Axes>"
            ]
          },
          "metadata": {
            "tags": [],
            "needs_background": "light"
          }
        }
      ]
    },
    {
      "cell_type": "code",
      "metadata": {
        "id": "FF30Oyf9M32c"
      },
      "source": [
        ""
      ],
      "execution_count": null,
      "outputs": []
    },
    {
      "cell_type": "markdown",
      "metadata": {
        "id": "XTO59oRnM78m"
      },
      "source": [
        "## Data taking:"
      ]
    },
    {
      "cell_type": "code",
      "metadata": {
        "colab": {
          "base_uri": "https://localhost:8080/"
        },
        "id": "gawRd44uM9iU",
        "outputId": "2aa8fc8d-6bca-430f-c21a-aba96395aa8b"
      },
      "source": [
        "t_0 = time.time()\n",
        "\n",
        "Ns = [int(1e1), int(5e1), int(1e2), int(5e2), int(1e3), int(5e3), \n",
        "      int(1e4), int(2e4), int(4e4), int(6e4), int(8e4), int(1e5)]\n",
        "\n",
        "realisations = [int(1000), int(1000), int(1000), int(1000), int(1000), int(1000), \n",
        "                int(1000), int(1000), int(1000), int(1000), int(1000), int(1000)]\n",
        "\n",
        "\n",
        "ptgreedy_path_points = []\n",
        "\n",
        "\n",
        "for j in range(len(Ns)):\n",
        "    N_ptg_coords = []\n",
        "\n",
        "    for i in range(realisations[j]):\n",
        "        points = gen_graph(Ns[j], seed= int(i + 1))\n",
        "        ptgp = ptgpath_points(points)\n",
        "        N_ptg_coords.append(ptgp)\n",
        "    ptgreedy_path_points.append(N_ptg_coords)\n",
        "\n",
        "many_paths = np.array([Ns, realisations,  ptgreedy_path_points], dtype=object)\n",
        "#file_name = f\"{realisations}_ptgreedypaths.npy\"\n",
        "#np.save(file_name, many_paths, allow_pickle=True)\n",
        "#files.download(file_name) \n",
        "\n",
        "print('time taken = ', time.time() - t_0)\n",
        "\n"
      ],
      "execution_count": null,
      "outputs": [
        {
          "output_type": "stream",
          "text": [
            "time taken =  95.89430570602417\n"
          ],
          "name": "stdout"
        }
      ]
    }
  ]
}